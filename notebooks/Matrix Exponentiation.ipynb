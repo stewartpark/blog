{
 "cells": [
  {
   "cell_type": "code",
   "execution_count": null,
   "metadata": {
    "tags": [
     "hidden"
    ]
   },
   "outputs": [],
   "source": [
    "# TITLE: Fast Fibonacci Sequence with Matrix Exponentiation\n",
    "# COVER: https://i.imgur.com/VM8Y3MM.gif\n",
    "# DATE: 2020-07-12\n",
    "# TAGS: algorithms, matrix exponentiation"
   ]
  },
  {
   "cell_type": "markdown",
   "metadata": {},
   "source": [
    "Matrix exponentiation is a technique that solves a linear recurrence relation in an $O(\\log n)$ time, instead of $O(n)$. \n",
    "\n",
    "A linear recurrence relation is an equation that has the following form:\n",
    "\n",
    "$$\n",
    "x_n = c_1 x_{n-1} + c_2 x_{n-2} + \\ldots + c_k x_{n-k}\n",
    "$$\n",
    "\n",
    "A well known example of such relation is the Fibonacci sequence:\n",
    "\n",
    "$$\n",
    "\\begin{align*}\n",
    "F_0 & = 0 \\\\\n",
    "F_1 & = 1 \\\\\n",
    "F_n & = F_{n-1} + F_{n-2}\n",
    "\\end{align*}\n",
    "$$\n",
    "\n",
    "So in this post, we're going to use the Fibonacci sequence as an example.\n",
    "\n",
    "As you can see, to calculate $F_n$, you need to calculate all the previous values in the sequence, which makes its time complexity $O(n)$.\n"
   ]
  },
  {
   "cell_type": "code",
   "execution_count": 1,
   "metadata": {},
   "outputs": [
    {
     "name": "stdout",
     "output_type": "stream",
     "text": [
      "CPU times: user 1.01 s, sys: 1.9 ms, total: 1.02 s\n",
      "Wall time: 1.02 s\n"
     ]
    }
   ],
   "source": [
    "def fib(n):\n",
    "    F_0 = 0\n",
    "    F_1 = 1\n",
    "    for _ in range(n - 1):\n",
    "        F_0, F_1 = F_1, F_0 + F_1\n",
    "    return F_1\n",
    "%time _ = fib(300_000)"
   ]
  },
  {
   "cell_type": "markdown",
   "metadata": {},
   "source": [
    "To speed up the above program, all you need to do is the following two things:\n",
    "\n",
    "- Rewrite the linear recurrence relation into a matrix form (Matrix exponentiation)\n",
    "- Calculate the exponential part in an $O(\\log n)$ time (Divide-and-conquer algorithm)\n",
    "\n",
    "\n",
    "## Matrix Exponentiation\n",
    "\n",
    "Recall the following equation of a linear recurrence relation:\n",
    "\n",
    "$$\n",
    "x_n = c_1 x_{n-1} + c_2 x_{n-2} + \\ldots + c_k x_{n-k}\n",
    "$$\n",
    "\n",
    "The goal here is to write an equation such that the following can be true:\n",
    "$$\n",
    "\\begin{align*}\n",
    "\\begin{bmatrix}\n",
    "  x_n \\\\\n",
    "  x_{n-1} \\\\\n",
    "  x_{n-2} \\\\\n",
    "  \\vdots \\\\\n",
    "  x_{n-k}\n",
    "\\end{bmatrix}\n",
    "&=\n",
    "C\n",
    "\\begin{bmatrix}\n",
    "  x_{n-1} \\\\\n",
    "  x_{n-2} \\\\\n",
    "  x_{n-3} \\\\\n",
    "  \\vdots \\\\\n",
    "  x_{n-(k+1)}\n",
    "\\end{bmatrix}\n",
    "\\end{align*}\n",
    "$$\n",
    "\n",
    "Getting the matrix $C$ above is pretty trivial since its relation is linear. A linear recurrence relation can be rewritten with matrices as follows:\n",
    "\n",
    "$$\n",
    "\\begin{align*}\n",
    "\\begin{bmatrix}\n",
    "  x_n \\\\\n",
    "  x_{n-1} \\\\\n",
    "  x_{n-2} \\\\\n",
    "  \\vdots \\\\\n",
    "  x_{n-k}\n",
    "\\end{bmatrix}\n",
    "&=\n",
    "\\begin{bmatrix}\n",
    " c_1 & c_2 & \\ldots & c_k \\\\\n",
    " 1 & 0 & \\ldots & 0 \\\\\n",
    " 0 & 1 & \\ldots & 0 \\\\\n",
    " \\vdots & \\vdots & \\ldots & \\vdots \\\\\n",
    " 0 & 0 & \\ldots & 1\n",
    "\\end{bmatrix}\n",
    "\\begin{bmatrix}\n",
    "  x_{n-1} \\\\\n",
    "  x_{n-2} \\\\\n",
    "  x_{n-3} \\\\\n",
    "  \\vdots \\\\\n",
    "  x_{n-(k+1)}\n",
    "\\end{bmatrix}\n",
    "\\end{align*}\n",
    "$$\n",
    "\n",
    "Since now we have a matrix that makes our result matrix one $n$ forward, the below equation becomes also true:\n",
    "\n",
    "$$\n",
    "\\begin{align*}\n",
    "\\begin{bmatrix}\n",
    "  x_n \\\\\n",
    "  x_{n-1} \\\\\n",
    "  x_{n-2} \\\\\n",
    "  \\vdots \\\\\n",
    "  x_{n-k}\n",
    "\\end{bmatrix}\n",
    "&=\n",
    "\\begin{bmatrix}\n",
    " c_1 & c_2 & \\ldots & c_k \\\\\n",
    " 1 & 0 & \\ldots & 0 \\\\\n",
    " 0 & 1 & \\ldots & 0 \\\\\n",
    " \\vdots & \\vdots & \\ldots & \\vdots \\\\\n",
    " 0 & 0 & \\ldots & 1\n",
    "\\end{bmatrix}^{\\text{ }2}\n",
    "\\begin{bmatrix}\n",
    "  x_{n-2} \\\\\n",
    "  x_{n-3} \\\\\n",
    "  x_{n-4} \\\\\n",
    "  \\vdots \\\\\n",
    "  x_{n-(k+2)}\n",
    "\\end{bmatrix} \\\\\n",
    "&=\n",
    "\\begin{bmatrix}\n",
    " c_1 & c_2 & \\ldots & c_k \\\\\n",
    " 1 & 0 & \\ldots & 0 \\\\\n",
    " 0 & 1 & \\ldots & 0 \\\\\n",
    " \\vdots & \\vdots & \\ldots & \\vdots \\\\\n",
    " 0 & 0 & \\ldots & 1\n",
    "\\end{bmatrix}^{\\text{ }3}\n",
    "\\begin{bmatrix}\n",
    "  x_{n-3} \\\\\n",
    "  x_{n-4} \\\\\n",
    "  x_{n-5} \\\\\n",
    "  \\vdots \\\\\n",
    "  x_{n-(k+3)}\n",
    "\\end{bmatrix} \\\\\n",
    "& \\vdots \\\\\n",
    "&=\n",
    "\\begin{bmatrix}\n",
    " c_1 & c_2 & \\ldots & c_k \\\\\n",
    " 1 & 0 & \\ldots & 0 \\\\\n",
    " 0 & 1 & \\ldots & 0 \\\\\n",
    " \\vdots & \\vdots & \\ldots & \\vdots \\\\\n",
    " 0 & 0 & \\ldots & 1\n",
    "\\end{bmatrix}^{\\text{ }n}\n",
    "\\begin{bmatrix}\n",
    "  x_{k} \\\\\n",
    "  x_{k-1} \\\\\n",
    "  x_{k-2} \\\\\n",
    "  \\vdots \\\\\n",
    "  x_{1}\n",
    "\\end{bmatrix} \n",
    "\\end{align*}\n",
    "$$\n",
    "\n",
    "In a linear recurrence relation, the necessary  initial values ${x_1, \\ldots, x_k}$ are given. So if we know the value of $C^n$, we no longer require the previous values!\n",
    "\n",
    "So if we plug our Fibonacci sequence example with the above, we get:\n",
    "\n",
    "$$\n",
    "\\begin{align*}\n",
    "\\begin{bmatrix}\n",
    "  F_n \\\\\n",
    "  F_{n-1}\n",
    "\\end{bmatrix}\n",
    "&=\n",
    "\\begin{bmatrix}\n",
    " 1 & 1 \\\\\n",
    " 1 & 0\n",
    "\\end{bmatrix}\n",
    "\\begin{bmatrix}\n",
    "  F_{n-1} \\\\\n",
    "  F_{n-2}\n",
    "\\end{bmatrix} \\\\\n",
    "&=\n",
    "\\begin{bmatrix}\n",
    " 1 & 1 \\\\\n",
    " 1 & 0\n",
    "\\end{bmatrix}^{\\text{ }n}\n",
    "\\begin{bmatrix}\n",
    "  0 \\\\\n",
    "  1\n",
    "\\end{bmatrix}\n",
    "\\end{align*}\n",
    "$$"
   ]
  },
  {
   "cell_type": "markdown",
   "metadata": {},
   "source": [
    "But as you can see, we still have to compute $n$ times to calculate $C^n$. That's why we have to talk about a way to calculate an exponential in a logarithmic time by using a divide-and-conquer algorithm.\n",
    "\n",
    "## Fast Exponentiation\n",
    "\n",
    "The idea is very simple. Since matrix multiplication has associativity, we can divide the calculation as follows:\n",
    "\n",
    "$$\n",
    "a^b = \\begin{cases}\n",
    "1 & \\text{if $b = 0$} \\\\\n",
    "a^{b/2} a^{b/2} & \\text{if $b$ is an even number} \\\\\n",
    "a^{\\lfloor b/2 \\rfloor} a^{\\lfloor b/2 \\rfloor} a & \\text{if $b$ is an odd number}\n",
    "\\end{cases}\n",
    "$$\n",
    "\n",
    "With the above, instead of doing the multiplication $n$ times, you can do it only $\\log_{2}{n}$ times, which makes it the time complexity of $O(\\log n)$.\n",
    "\n",
    "Here's the Python version of the above equation:"
   ]
  },
  {
   "cell_type": "code",
   "execution_count": 2,
   "metadata": {},
   "outputs": [
    {
     "data": {
      "text/plain": [
       "1024"
      ]
     },
     "execution_count": 2,
     "metadata": {},
     "output_type": "execute_result"
    }
   ],
   "source": [
    "def pow(a, b):\n",
    "    if b == 0:\n",
    "        c = 1\n",
    "    else:\n",
    "        v = pow(a, b // 2)\n",
    "        c = v * v\n",
    "        if b % 2 == 1:\n",
    "            c *= a\n",
    "    return c\n",
    "\n",
    "pow(2, 10)"
   ]
  },
  {
   "cell_type": "markdown",
   "metadata": {},
   "source": [
    "## Fast Fibonacci Sequence\n",
    "\n",
    "Now that we have all the tools we need in our hands, let's write a program that calculates the $n$th Fibonacci sequence number in an $O(\\log n)$ time.\n",
    "\n",
    "Let's first define functions to calculate matrices in the equation. Of course, if you're not in a competitive programming setup, you can just use numpy."
   ]
  },
  {
   "cell_type": "code",
   "execution_count": 3,
   "metadata": {},
   "outputs": [],
   "source": [
    "def matmul21(A, B):\n",
    "    return [\n",
    "        [A[0][0] * B[0][0] + A[0][1] * B[1][0]], \n",
    "        [A[1][0] * B[0][0] + A[1][1] * B[1][0]]\n",
    "    ]\n",
    "\n",
    "def matmul22(A, B):\n",
    "    return [\n",
    "        [A[0][0] * B[0][0] + A[0][1] * B[1][0], A[0][0] * B[0][1] + A[0][1] * B[1][1]],\n",
    "        [A[1][0] * B[0][0] + A[1][1] * B[1][0], A[1][0] * B[0][1] + A[1][1] * B[1][1]]\n",
    "    ]"
   ]
  },
  {
   "cell_type": "markdown",
   "metadata": {},
   "source": [
    "Let's write a power function that uses a divide-and-conquer algorithm:"
   ]
  },
  {
   "cell_type": "code",
   "execution_count": 4,
   "metadata": {},
   "outputs": [],
   "source": [
    "def matpow22(a, b):\n",
    "    if b == 0:\n",
    "        c = [[1, 0], [0, 1]] # 2x2 Identity matrix\n",
    "    else:\n",
    "        v = matpow22(a, b // 2)\n",
    "        c = matmul22(v, v)\n",
    "        if b % 2 == 1:\n",
    "            c = matmul22(c, a)\n",
    "    return c"
   ]
  },
  {
   "cell_type": "markdown",
   "metadata": {},
   "source": [
    "And now the Fibonacci sequence computation part is just simply:"
   ]
  },
  {
   "cell_type": "code",
   "execution_count": 5,
   "metadata": {},
   "outputs": [
    {
     "name": "stdout",
     "output_type": "stream",
     "text": [
      "CPU times: user 45.5 ms, sys: 1.04 ms, total: 46.6 ms\n",
      "Wall time: 45.5 ms\n"
     ]
    }
   ],
   "source": [
    "C        = [[1, 1],\n",
    "            [1, 0]]\n",
    "F_initial = [[0],\n",
    "             [1]]\n",
    "\n",
    "def fib_fast(n):\n",
    "    return matmul21(matpow22(C, n), F_initial)[0][0]\n",
    "\n",
    "%time _ = fib_fast(300_000)"
   ]
  },
  {
   "cell_type": "markdown",
   "metadata": {},
   "source": [
    "~1100ms -> ~50ms!"
   ]
  }
 ],
 "metadata": {
  "celltoolbar": "Tags",
  "kernelspec": {
   "display_name": "Python 3",
   "language": "python",
   "name": "python3"
  },
  "language_info": {
   "codemirror_mode": {
    "name": "ipython",
    "version": 3
   },
   "file_extension": ".py",
   "mimetype": "text/x-python",
   "name": "python",
   "nbconvert_exporter": "python",
   "pygments_lexer": "ipython3",
   "version": "3.7.5"
  }
 },
 "nbformat": 4,
 "nbformat_minor": 2
}
